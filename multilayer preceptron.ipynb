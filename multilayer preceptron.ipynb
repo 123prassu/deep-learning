{
  "nbformat": 4,
  "nbformat_minor": 0,
  "metadata": {
    "colab": {
      "provenance": [],
      "authorship_tag": "ABX9TyMx12pj2TJ6b3gTk3l3Hwqa",
      "include_colab_link": true
    },
    "kernelspec": {
      "name": "python3",
      "display_name": "Python 3"
    },
    "language_info": {
      "name": "python"
    }
  },
  "cells": [
    {
      "cell_type": "markdown",
      "metadata": {
        "id": "view-in-github",
        "colab_type": "text"
      },
      "source": [
        "<a href=\"https://colab.research.google.com/github/123prassu/deep-learning/blob/main/multilayer%20preceptron.ipynb\" target=\"_parent\"><img src=\"https://colab.research.google.com/assets/colab-badge.svg\" alt=\"Open In Colab\"/></a>"
      ]
    },
    {
      "cell_type": "code",
      "execution_count": 1,
      "metadata": {
        "id": "L2ndjJj15a8_"
      },
      "outputs": [],
      "source": [
        "# Import necessary libraries\n",
        "import numpy as np\n",
        "from tensorflow.keras.datasets import mnist # Load MNIST dataset\n",
        "from tensorflow.keras.models import Sequential # Define a sequential neural network\n",
        "from tensorflow.keras.layers import Dense, Dropout # Add dense and dropout layers\n",
        "from tensorflow.keras.utils import to_categorical # One-hot encoding of labels"
      ]
    },
    {
      "cell_type": "code",
      "source": [
        "print(\"Loading the MNIST dataset...\")\n",
        "# The dataset contains grayscale images of handwritten digits (28x28 pixels) and corresponding labels\n",
        "(X_train, y_train), (X_test, y_test) = mnist.load_data()\n",
        "print(f\"Training data shape: {X_train.shape}, Training labels shape: {y_train.shape}\")\n",
        "print(f\"Testing data shape: {X_test.shape}, Testing labels shape: {y_test.shape}\")"
      ],
      "metadata": {
        "colab": {
          "base_uri": "https://localhost:8080/"
        },
        "id": "SVvTXJO35g0u",
        "outputId": "4c6ab43d-a260-4055-d01d-dedf8e192aa6"
      },
      "execution_count": 2,
      "outputs": [
        {
          "output_type": "stream",
          "name": "stdout",
          "text": [
            "Loading the MNIST dataset...\n",
            "Downloading data from https://storage.googleapis.com/tensorflow/tf-keras-datasets/mnist.npz\n",
            "\u001b[1m11490434/11490434\u001b[0m \u001b[32m━━━━━━━━━━━━━━━━━━━━\u001b[0m\u001b[37m\u001b[0m \u001b[1m0s\u001b[0m 0us/step\n",
            "Training data shape: (60000, 28, 28), Training labels shape: (60000,)\n",
            "Testing data shape: (10000, 28, 28), Testing labels shape: (10000,)\n"
          ]
        }
      ]
    },
    {
      "cell_type": "code",
      "source": [
        "print(\"\\nReshaping the input data...\")\n",
        "# Reshape images from 28x28 pixels into 1D arrays of size 784\n",
        "X_train = X_train.reshape(X_train.shape[0], 28*28)\n",
        "X_test = X_test.reshape(X_test.shape[0], 28*28)\n",
        "print(f\"Reshaped training data shape: {X_train.shape}\")\n",
        "print(f\"Reshaped testing data shape: {X_test.shape}\")\n"
      ],
      "metadata": {
        "colab": {
          "base_uri": "https://localhost:8080/"
        },
        "id": "YX8X0jOG5oiW",
        "outputId": "b970595d-bef4-4083-ab4a-db70b8f51a07"
      },
      "execution_count": 3,
      "outputs": [
        {
          "output_type": "stream",
          "name": "stdout",
          "text": [
            "\n",
            "Reshaping the input data...\n",
            "Reshaped training data shape: (60000, 784)\n",
            "Reshaped testing data shape: (10000, 784)\n"
          ]
        }
      ]
    },
    {
      "cell_type": "code",
      "source": [
        "print(\"\\nNormalizing the input data...\")\n",
        "# Normalize pixel values to the range 0-1 by dividing by 255\n",
        "X_train = X_train / 255.0\n",
        "X_test = X_test / 255.0\n",
        "print(\"Normalization complete. Pixel values are now between 0 and 1.\")"
      ],
      "metadata": {
        "colab": {
          "base_uri": "https://localhost:8080/"
        },
        "id": "P7TmWMWf5rg-",
        "outputId": "66ad0701-96ac-49e5-eac1-28939a66b7b3"
      },
      "execution_count": 4,
      "outputs": [
        {
          "output_type": "stream",
          "name": "stdout",
          "text": [
            "\n",
            "Normalizing the input data...\n",
            "Normalization complete. Pixel values are now between 0 and 1.\n"
          ]
        }
      ]
    },
    {
      "cell_type": "code",
      "source": [
        "print(\"\\nOne-hot encoding the target variables...\")\n",
        "# Convert integer labels (0-9) into one-hot encoded vectors\n",
        "y_train = to_categorical(y_train)\n",
        "y_test = to_categorical(y_test)\n",
        "print(f\"Encoded training labels shape: {y_train.shape}\")\n",
        "print(f\"Encoded testing labels shape: {y_test.shape}\")"
      ],
      "metadata": {
        "colab": {
          "base_uri": "https://localhost:8080/"
        },
        "id": "Dh8ccEcn50sW",
        "outputId": "ecd490e1-f370-41f9-8204-cec26377191f"
      },
      "execution_count": 5,
      "outputs": [
        {
          "output_type": "stream",
          "name": "stdout",
          "text": [
            "\n",
            "One-hot encoding the target variables...\n",
            "Encoded training labels shape: (60000, 10)\n",
            "Encoded testing labels shape: (10000, 10)\n"
          ]
        }
      ]
    },
    {
      "cell_type": "code",
      "source": [
        "print(\"\\nDefining the neural network model...\")\n",
        "# Create a Sequential model\n",
        "model = Sequential()\n",
        "# Add the first hidden layer with 512 units and ReLU activation\n",
        "model.add(Dense(512, input_shape=(784,), activation='relu'))\n",
        "# Add a dropout layer to reduce overfitting\n",
        "model.add(Dropout(0.2))\n",
        "# Add a second hidden layer with 512 units and ReLU activation\n",
        "model.add(Dense(512, activation='relu'))\n",
        "# Add another dropout layer\n",
        "model.add(Dropout(0.2))\n",
        "# Add the output layer with 10 units (for 10 classes) and softmax activation\n",
        "model.add(Dense(10, activation='softmax'))\n",
        "print(\"Model architecture defined.\")"
      ],
      "metadata": {
        "colab": {
          "base_uri": "https://localhost:8080/"
        },
        "id": "cf1VCU7P530G",
        "outputId": "a7e99c53-1481-40ee-e4ba-37c71fc6bd91"
      },
      "execution_count": 7,
      "outputs": [
        {
          "output_type": "stream",
          "name": "stdout",
          "text": [
            "\n",
            "Defining the neural network model...\n",
            "Model architecture defined.\n"
          ]
        }
      ]
    },
    {
      "cell_type": "code",
      "source": [
        "print(\"\\nCompiling the model...\")\n",
        "# Compile the model with categorical cross-entropy loss, Adam optimizer, and accuracy metric\n",
        "model.compile(loss='categorical_crossentropy', optimizer='adam', metrics=['accuracy'])\n",
        "print(\"Model compiled with categorical cross-entropy loss and Adam optimizer.\")"
      ],
      "metadata": {
        "colab": {
          "base_uri": "https://localhost:8080/"
        },
        "id": "tVNjJy7T5-x2",
        "outputId": "f1421c2b-9590-4cb6-9db1-d74d9f683fe8"
      },
      "execution_count": 9,
      "outputs": [
        {
          "output_type": "stream",
          "name": "stdout",
          "text": [
            "\n",
            "Compiling the model...\n",
            "Model compiled with categorical cross-entropy loss and Adam optimizer.\n"
          ]
        }
      ]
    },
    {
      "cell_type": "code",
      "source": [
        "print(\"\\nStarting training...\")\n",
        "# Train the model on the training data, using the test data for validation\n",
        "# Set the number of epochs to 10 and batch size to 128\n",
        "history = model.fit(X_train, y_train, validation_data=(X_test, y_test), epochs=10, batch_size=128, verbose=1)\n",
        "print(\"Training complete.\")"
      ],
      "metadata": {
        "colab": {
          "base_uri": "https://localhost:8080/"
        },
        "id": "Udc4Azge6I4-",
        "outputId": "e0b37ce7-ce23-4041-d726-68d3df7ed38d"
      },
      "execution_count": 10,
      "outputs": [
        {
          "output_type": "stream",
          "name": "stdout",
          "text": [
            "\n",
            "Starting training...\n",
            "Epoch 1/10\n",
            "\u001b[1m469/469\u001b[0m \u001b[32m━━━━━━━━━━━━━━━━━━━━\u001b[0m\u001b[37m\u001b[0m \u001b[1m12s\u001b[0m 22ms/step - accuracy: 0.8655 - loss: 0.4467 - val_accuracy: 0.9642 - val_loss: 0.1162\n",
            "Epoch 2/10\n",
            "\u001b[1m469/469\u001b[0m \u001b[32m━━━━━━━━━━━━━━━━━━━━\u001b[0m\u001b[37m\u001b[0m \u001b[1m21s\u001b[0m 23ms/step - accuracy: 0.9673 - loss: 0.1048 - val_accuracy: 0.9752 - val_loss: 0.0766\n",
            "Epoch 3/10\n",
            "\u001b[1m469/469\u001b[0m \u001b[32m━━━━━━━━━━━━━━━━━━━━\u001b[0m\u001b[37m\u001b[0m \u001b[1m19s\u001b[0m 20ms/step - accuracy: 0.9783 - loss: 0.0708 - val_accuracy: 0.9812 - val_loss: 0.0621\n",
            "Epoch 4/10\n",
            "\u001b[1m469/469\u001b[0m \u001b[32m━━━━━━━━━━━━━━━━━━━━\u001b[0m\u001b[37m\u001b[0m \u001b[1m11s\u001b[0m 23ms/step - accuracy: 0.9829 - loss: 0.0543 - val_accuracy: 0.9818 - val_loss: 0.0623\n",
            "Epoch 5/10\n",
            "\u001b[1m469/469\u001b[0m \u001b[32m━━━━━━━━━━━━━━━━━━━━\u001b[0m\u001b[37m\u001b[0m \u001b[1m11s\u001b[0m 23ms/step - accuracy: 0.9858 - loss: 0.0452 - val_accuracy: 0.9800 - val_loss: 0.0673\n",
            "Epoch 6/10\n",
            "\u001b[1m469/469\u001b[0m \u001b[32m━━━━━━━━━━━━━━━━━━━━\u001b[0m\u001b[37m\u001b[0m \u001b[1m11s\u001b[0m 23ms/step - accuracy: 0.9879 - loss: 0.0369 - val_accuracy: 0.9817 - val_loss: 0.0650\n",
            "Epoch 7/10\n",
            "\u001b[1m469/469\u001b[0m \u001b[32m━━━━━━━━━━━━━━━━━━━━\u001b[0m\u001b[37m\u001b[0m \u001b[1m9s\u001b[0m 20ms/step - accuracy: 0.9898 - loss: 0.0313 - val_accuracy: 0.9797 - val_loss: 0.0766\n",
            "Epoch 8/10\n",
            "\u001b[1m469/469\u001b[0m \u001b[32m━━━━━━━━━━━━━━━━━━━━\u001b[0m\u001b[37m\u001b[0m \u001b[1m11s\u001b[0m 22ms/step - accuracy: 0.9903 - loss: 0.0269 - val_accuracy: 0.9816 - val_loss: 0.0675\n",
            "Epoch 9/10\n",
            "\u001b[1m469/469\u001b[0m \u001b[32m━━━━━━━━━━━━━━━━━━━━\u001b[0m\u001b[37m\u001b[0m \u001b[1m21s\u001b[0m 23ms/step - accuracy: 0.9912 - loss: 0.0271 - val_accuracy: 0.9795 - val_loss: 0.0798\n",
            "Epoch 10/10\n",
            "\u001b[1m469/469\u001b[0m \u001b[32m━━━━━━━━━━━━━━━━━━━━\u001b[0m\u001b[37m\u001b[0m \u001b[1m11s\u001b[0m 23ms/step - accuracy: 0.9911 - loss: 0.0263 - val_accuracy: 0.9806 - val_loss: 0.0789\n",
            "Training complete.\n"
          ]
        }
      ]
    },
    {
      "cell_type": "code",
      "source": [
        "print(\"\\nEvaluating the model on test data...\")\n",
        "# Evaluate the model's performance on the test data\n",
        "scores = model.evaluate(X_test, y_test, verbose=0)\n",
        "# Print the test accuracy\n",
        "print(f\"Test Accuracy: {scores[1] * 100:.2f}%\")\n",
        "# Additional: Display training history\n",
        "print(\"\\nTraining history:\")\n",
        "# Print the final training accuracy\n",
        "print(f\"Training accuracy: {history.history['accuracy'][-1]:.2f}\")\n",
        "# Print the final validation accuracy\n",
        "print(f\"Validation accuracy: {history.history['val_accuracy'][-1]:.2f}\")"
      ],
      "metadata": {
        "colab": {
          "base_uri": "https://localhost:8080/"
        },
        "id": "BMaj8Rgu6OTW",
        "outputId": "60d98b65-9fae-4319-d917-bdc60ad1e15c"
      },
      "execution_count": 11,
      "outputs": [
        {
          "output_type": "stream",
          "name": "stdout",
          "text": [
            "\n",
            "Evaluating the model on test data...\n",
            "Test Accuracy: 98.06%\n",
            "\n",
            "Training history:\n",
            "Training accuracy: 0.99\n",
            "Validation accuracy: 0.98\n"
          ]
        }
      ]
    }
  ]
}